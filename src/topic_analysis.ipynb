{
 "cells": [
  {
   "cell_type": "code",
   "execution_count": 1,
   "metadata": {
    "execution": {
     "iopub.execute_input": "2022-05-19T10:32:40.154676Z",
     "iopub.status.busy": "2022-05-19T10:32:40.154063Z",
     "iopub.status.idle": "2022-05-19T10:32:40.993064Z",
     "shell.execute_reply": "2022-05-19T10:32:40.992369Z",
     "shell.execute_reply.started": "2022-05-19T10:32:40.154620Z"
    }
   },
   "outputs": [
    {
     "name": "stdout",
     "output_type": "stream",
     "text": [
      "Code running in a notebook, loading display tools\n"
     ]
    }
   ],
   "source": [
    "%load_ext autoreload\n",
    "%autoreload 2\n",
    "from utils.streams import document_stream, stream_cleaned_texts, progress_bar_stream\n",
    "from utils.topic import create_topic_model"
   ]
  },
  {
   "cell_type": "code",
   "execution_count": 2,
   "metadata": {
    "execution": {
     "iopub.execute_input": "2022-05-19T10:32:44.709120Z",
     "iopub.status.busy": "2022-05-19T10:32:44.708564Z",
     "iopub.status.idle": "2022-05-19T10:32:45.176612Z",
     "shell.execute_reply": "2022-05-19T10:32:45.175930Z",
     "shell.execute_reply.started": "2022-05-19T10:32:44.709064Z"
    }
   },
   "outputs": [],
   "source": [
    "import pyLDAvis\n",
    "import pyLDAvis.sklearn\n",
    "from itertools import islice\n",
    "pyLDAvis.enable_notebook()"
   ]
  },
  {
   "cell_type": "code",
   "execution_count": 3,
   "metadata": {
    "execution": {
     "iopub.execute_input": "2022-05-19T10:32:48.013089Z",
     "iopub.status.busy": "2022-05-19T10:32:48.012540Z",
     "iopub.status.idle": "2022-05-19T10:32:48.061432Z",
     "shell.execute_reply": "2022-05-19T10:32:48.060618Z",
     "shell.execute_reply.started": "2022-05-19T10:32:48.013034Z"
    }
   },
   "outputs": [],
   "source": [
    "DATA_PATH = \"/work/netarkivet-cleaned/\"\n",
    "texts = stream_cleaned_texts(data_path=DATA_PATH, filter_porn=False)"
   ]
  },
  {
   "cell_type": "code",
   "execution_count": null,
   "metadata": {
    "execution": {
     "iopub.execute_input": "2022-05-19T10:41:07.007266Z",
     "iopub.status.busy": "2022-05-19T10:41:07.006777Z"
    },
    "tags": []
   },
   "outputs": [],
   "source": [
    "documents = document_stream(texts, workers=2)\n",
    "documents = list(islice(documents, 1_000_000))"
   ]
  },
  {
   "cell_type": "code",
   "execution_count": null,
   "metadata": {
    "tags": []
   },
   "outputs": [],
   "source": [
    "model, matrix, vectorizer = create_topic_model(documents, n_topics=40, max_freq = 0.3)"
   ]
  },
  {
   "cell_type": "code",
   "execution_count": null,
   "metadata": {
    "tags": []
   },
   "outputs": [],
   "source": [
    "pyLDAvis.sklearn.prepare(model, matrix, vectorizer)"
   ]
  },
  {
   "cell_type": "code",
   "execution_count": null,
   "metadata": {},
   "outputs": [],
   "source": []
  }
 ],
 "metadata": {
  "interpreter": {
   "hash": "916dbcbb3f70747c44a77c7bcd40155683ae19c65e1c03b4aa3499c5328201f1"
  },
  "kernelspec": {
   "display_name": "Python 3 ",
   "language": "python",
   "name": "python3"
  },
  "language_info": {
   "codemirror_mode": {
    "name": "ipython",
    "version": 3
   },
   "file_extension": ".py",
   "mimetype": "text/x-python",
   "name": "python",
   "nbconvert_exporter": "python",
   "pygments_lexer": "ipython3",
   "version": "3.9.10"
  }
 },
 "nbformat": 4,
 "nbformat_minor": 4
}
